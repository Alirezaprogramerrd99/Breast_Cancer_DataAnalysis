{
 "cells": [
  {
   "cell_type": "code",
   "execution_count": 390,
   "id": "ff0f1577",
   "metadata": {},
   "outputs": [],
   "source": [
    "import pandas as pd\n",
    "import numpy as np"
   ]
  },
  {
   "cell_type": "markdown",
   "id": "5f3a90f7",
   "metadata": {},
   "source": [
    "##  Breast Cancer data set configirations: "
   ]
  },
  {
   "cell_type": "code",
   "execution_count": 391,
   "id": "37885f5a",
   "metadata": {},
   "outputs": [
    {
     "data": {
      "text/html": [
       "<div>\n",
       "<style scoped>\n",
       "    .dataframe tbody tr th:only-of-type {\n",
       "        vertical-align: middle;\n",
       "    }\n",
       "\n",
       "    .dataframe tbody tr th {\n",
       "        vertical-align: top;\n",
       "    }\n",
       "\n",
       "    .dataframe thead th {\n",
       "        text-align: right;\n",
       "    }\n",
       "</style>\n",
       "<table border=\"1\" class=\"dataframe\">\n",
       "  <thead>\n",
       "    <tr style=\"text-align: right;\">\n",
       "      <th></th>\n",
       "      <th>Age</th>\n",
       "      <th>BMI</th>\n",
       "      <th>Glucose</th>\n",
       "      <th>Insulin</th>\n",
       "      <th>HOMA</th>\n",
       "      <th>Leptin</th>\n",
       "      <th>Adiponectin</th>\n",
       "      <th>Resistin</th>\n",
       "      <th>MCP.1</th>\n",
       "      <th>Classification</th>\n",
       "    </tr>\n",
       "  </thead>\n",
       "  <tbody>\n",
       "    <tr>\n",
       "      <th>0</th>\n",
       "      <td>48</td>\n",
       "      <td>23.500000</td>\n",
       "      <td>70</td>\n",
       "      <td>2.707</td>\n",
       "      <td>0.467409</td>\n",
       "      <td>8.8071</td>\n",
       "      <td>9.702400</td>\n",
       "      <td>7.99585</td>\n",
       "      <td>417.114</td>\n",
       "      <td>1</td>\n",
       "    </tr>\n",
       "    <tr>\n",
       "      <th>1</th>\n",
       "      <td>83</td>\n",
       "      <td>20.690495</td>\n",
       "      <td>92</td>\n",
       "      <td>3.115</td>\n",
       "      <td>0.706897</td>\n",
       "      <td>8.8438</td>\n",
       "      <td>5.429285</td>\n",
       "      <td>4.06405</td>\n",
       "      <td>468.786</td>\n",
       "      <td>1</td>\n",
       "    </tr>\n",
       "    <tr>\n",
       "      <th>2</th>\n",
       "      <td>82</td>\n",
       "      <td>23.124670</td>\n",
       "      <td>91</td>\n",
       "      <td>4.498</td>\n",
       "      <td>1.009651</td>\n",
       "      <td>17.9393</td>\n",
       "      <td>22.432040</td>\n",
       "      <td>9.27715</td>\n",
       "      <td>554.697</td>\n",
       "      <td>1</td>\n",
       "    </tr>\n",
       "    <tr>\n",
       "      <th>3</th>\n",
       "      <td>68</td>\n",
       "      <td>21.367521</td>\n",
       "      <td>77</td>\n",
       "      <td>3.226</td>\n",
       "      <td>0.612725</td>\n",
       "      <td>9.8827</td>\n",
       "      <td>7.169560</td>\n",
       "      <td>12.76600</td>\n",
       "      <td>928.220</td>\n",
       "      <td>1</td>\n",
       "    </tr>\n",
       "    <tr>\n",
       "      <th>4</th>\n",
       "      <td>86</td>\n",
       "      <td>21.111111</td>\n",
       "      <td>92</td>\n",
       "      <td>3.549</td>\n",
       "      <td>0.805386</td>\n",
       "      <td>6.6994</td>\n",
       "      <td>4.819240</td>\n",
       "      <td>10.57635</td>\n",
       "      <td>773.920</td>\n",
       "      <td>1</td>\n",
       "    </tr>\n",
       "    <tr>\n",
       "      <th>5</th>\n",
       "      <td>49</td>\n",
       "      <td>22.854458</td>\n",
       "      <td>92</td>\n",
       "      <td>3.226</td>\n",
       "      <td>0.732087</td>\n",
       "      <td>6.8317</td>\n",
       "      <td>13.679750</td>\n",
       "      <td>10.31760</td>\n",
       "      <td>530.410</td>\n",
       "      <td>1</td>\n",
       "    </tr>\n",
       "    <tr>\n",
       "      <th>6</th>\n",
       "      <td>89</td>\n",
       "      <td>22.700000</td>\n",
       "      <td>77</td>\n",
       "      <td>4.690</td>\n",
       "      <td>0.890787</td>\n",
       "      <td>6.9640</td>\n",
       "      <td>5.589865</td>\n",
       "      <td>12.93610</td>\n",
       "      <td>1256.083</td>\n",
       "      <td>1</td>\n",
       "    </tr>\n",
       "    <tr>\n",
       "      <th>7</th>\n",
       "      <td>76</td>\n",
       "      <td>23.800000</td>\n",
       "      <td>118</td>\n",
       "      <td>6.470</td>\n",
       "      <td>1.883201</td>\n",
       "      <td>4.3110</td>\n",
       "      <td>13.251320</td>\n",
       "      <td>5.10420</td>\n",
       "      <td>280.694</td>\n",
       "      <td>1</td>\n",
       "    </tr>\n",
       "    <tr>\n",
       "      <th>8</th>\n",
       "      <td>73</td>\n",
       "      <td>22.000000</td>\n",
       "      <td>97</td>\n",
       "      <td>3.350</td>\n",
       "      <td>0.801543</td>\n",
       "      <td>4.4700</td>\n",
       "      <td>10.358725</td>\n",
       "      <td>6.28445</td>\n",
       "      <td>136.855</td>\n",
       "      <td>1</td>\n",
       "    </tr>\n",
       "    <tr>\n",
       "      <th>9</th>\n",
       "      <td>75</td>\n",
       "      <td>23.000000</td>\n",
       "      <td>83</td>\n",
       "      <td>4.952</td>\n",
       "      <td>1.013839</td>\n",
       "      <td>17.1270</td>\n",
       "      <td>11.578990</td>\n",
       "      <td>7.09130</td>\n",
       "      <td>318.302</td>\n",
       "      <td>1</td>\n",
       "    </tr>\n",
       "  </tbody>\n",
       "</table>\n",
       "</div>"
      ],
      "text/plain": [
       "   Age        BMI  Glucose  Insulin      HOMA   Leptin  Adiponectin  Resistin  \\\n",
       "0   48  23.500000       70    2.707  0.467409   8.8071     9.702400   7.99585   \n",
       "1   83  20.690495       92    3.115  0.706897   8.8438     5.429285   4.06405   \n",
       "2   82  23.124670       91    4.498  1.009651  17.9393    22.432040   9.27715   \n",
       "3   68  21.367521       77    3.226  0.612725   9.8827     7.169560  12.76600   \n",
       "4   86  21.111111       92    3.549  0.805386   6.6994     4.819240  10.57635   \n",
       "5   49  22.854458       92    3.226  0.732087   6.8317    13.679750  10.31760   \n",
       "6   89  22.700000       77    4.690  0.890787   6.9640     5.589865  12.93610   \n",
       "7   76  23.800000      118    6.470  1.883201   4.3110    13.251320   5.10420   \n",
       "8   73  22.000000       97    3.350  0.801543   4.4700    10.358725   6.28445   \n",
       "9   75  23.000000       83    4.952  1.013839  17.1270    11.578990   7.09130   \n",
       "\n",
       "      MCP.1  Classification  \n",
       "0   417.114               1  \n",
       "1   468.786               1  \n",
       "2   554.697               1  \n",
       "3   928.220               1  \n",
       "4   773.920               1  \n",
       "5   530.410               1  \n",
       "6  1256.083               1  \n",
       "7   280.694               1  \n",
       "8   136.855               1  \n",
       "9   318.302               1  "
      ]
     },
     "execution_count": 391,
     "metadata": {},
     "output_type": "execute_result"
    }
   ],
   "source": [
    "df = pd.read_csv('dataR2.csv')   # loading the data set in to the pandas dataframe.\n",
    "df.head(10)"
   ]
  },
  {
   "cell_type": "code",
   "execution_count": 392,
   "id": "50bcc3b6",
   "metadata": {},
   "outputs": [
    {
     "name": "stdout",
     "output_type": "stream",
     "text": [
      "dataSet shape:  (116, 10)\n",
      "dataset class labels:  [1 2]\n"
     ]
    }
   ],
   "source": [
    "print(\"dataSet shape: \", df.shape)\n",
    "print(\"dataset class labels: \", df['Classification'].unique())"
   ]
  },
  {
   "cell_type": "markdown",
   "id": "b9323e29",
   "metadata": {},
   "source": [
    "## Logistic Regression on Cancer data set:"
   ]
  },
  {
   "cell_type": "code",
   "execution_count": 393,
   "id": "4002db46",
   "metadata": {},
   "outputs": [
    {
     "name": "stdout",
     "output_type": "stream",
     "text": [
      "after suffeling the data set:\n",
      "\n"
     ]
    },
    {
     "data": {
      "text/html": [
       "<div>\n",
       "<style scoped>\n",
       "    .dataframe tbody tr th:only-of-type {\n",
       "        vertical-align: middle;\n",
       "    }\n",
       "\n",
       "    .dataframe tbody tr th {\n",
       "        vertical-align: top;\n",
       "    }\n",
       "\n",
       "    .dataframe thead th {\n",
       "        text-align: right;\n",
       "    }\n",
       "</style>\n",
       "<table border=\"1\" class=\"dataframe\">\n",
       "  <thead>\n",
       "    <tr style=\"text-align: right;\">\n",
       "      <th></th>\n",
       "      <th>Age</th>\n",
       "      <th>BMI</th>\n",
       "      <th>Glucose</th>\n",
       "      <th>Insulin</th>\n",
       "      <th>HOMA</th>\n",
       "      <th>Leptin</th>\n",
       "      <th>Adiponectin</th>\n",
       "      <th>Resistin</th>\n",
       "      <th>MCP.1</th>\n",
       "      <th>Classification</th>\n",
       "    </tr>\n",
       "  </thead>\n",
       "  <tbody>\n",
       "    <tr>\n",
       "      <th>0</th>\n",
       "      <td>75</td>\n",
       "      <td>27.300000</td>\n",
       "      <td>85</td>\n",
       "      <td>5.197</td>\n",
       "      <td>1.089638</td>\n",
       "      <td>10.3900</td>\n",
       "      <td>9.000805</td>\n",
       "      <td>7.57670</td>\n",
       "      <td>335.393</td>\n",
       "      <td>1</td>\n",
       "    </tr>\n",
       "    <tr>\n",
       "      <th>1</th>\n",
       "      <td>76</td>\n",
       "      <td>27.200000</td>\n",
       "      <td>94</td>\n",
       "      <td>14.070</td>\n",
       "      <td>3.262364</td>\n",
       "      <td>35.8910</td>\n",
       "      <td>9.346630</td>\n",
       "      <td>8.41560</td>\n",
       "      <td>377.227</td>\n",
       "      <td>1</td>\n",
       "    </tr>\n",
       "    <tr>\n",
       "      <th>2</th>\n",
       "      <td>69</td>\n",
       "      <td>21.513859</td>\n",
       "      <td>112</td>\n",
       "      <td>6.683</td>\n",
       "      <td>1.846290</td>\n",
       "      <td>32.5800</td>\n",
       "      <td>4.138025</td>\n",
       "      <td>15.69876</td>\n",
       "      <td>713.239</td>\n",
       "      <td>2</td>\n",
       "    </tr>\n",
       "    <tr>\n",
       "      <th>3</th>\n",
       "      <td>24</td>\n",
       "      <td>18.670000</td>\n",
       "      <td>88</td>\n",
       "      <td>6.107</td>\n",
       "      <td>1.330000</td>\n",
       "      <td>8.8800</td>\n",
       "      <td>36.060000</td>\n",
       "      <td>6.85000</td>\n",
       "      <td>632.220</td>\n",
       "      <td>1</td>\n",
       "    </tr>\n",
       "    <tr>\n",
       "      <th>4</th>\n",
       "      <td>82</td>\n",
       "      <td>31.217482</td>\n",
       "      <td>100</td>\n",
       "      <td>18.077</td>\n",
       "      <td>4.458993</td>\n",
       "      <td>31.6453</td>\n",
       "      <td>9.923650</td>\n",
       "      <td>19.94687</td>\n",
       "      <td>994.316</td>\n",
       "      <td>2</td>\n",
       "    </tr>\n",
       "    <tr>\n",
       "      <th>5</th>\n",
       "      <td>66</td>\n",
       "      <td>31.238590</td>\n",
       "      <td>82</td>\n",
       "      <td>4.181</td>\n",
       "      <td>0.845677</td>\n",
       "      <td>16.2247</td>\n",
       "      <td>4.267105</td>\n",
       "      <td>3.29175</td>\n",
       "      <td>634.602</td>\n",
       "      <td>1</td>\n",
       "    </tr>\n",
       "    <tr>\n",
       "      <th>6</th>\n",
       "      <td>66</td>\n",
       "      <td>26.562500</td>\n",
       "      <td>89</td>\n",
       "      <td>6.524</td>\n",
       "      <td>1.432235</td>\n",
       "      <td>14.9084</td>\n",
       "      <td>8.429960</td>\n",
       "      <td>14.91922</td>\n",
       "      <td>269.487</td>\n",
       "      <td>2</td>\n",
       "    </tr>\n",
       "    <tr>\n",
       "      <th>7</th>\n",
       "      <td>38</td>\n",
       "      <td>23.340000</td>\n",
       "      <td>75</td>\n",
       "      <td>5.782</td>\n",
       "      <td>1.069670</td>\n",
       "      <td>15.2600</td>\n",
       "      <td>17.950000</td>\n",
       "      <td>9.35000</td>\n",
       "      <td>165.020</td>\n",
       "      <td>1</td>\n",
       "    </tr>\n",
       "    <tr>\n",
       "      <th>8</th>\n",
       "      <td>46</td>\n",
       "      <td>20.830000</td>\n",
       "      <td>88</td>\n",
       "      <td>3.420</td>\n",
       "      <td>0.742368</td>\n",
       "      <td>12.8700</td>\n",
       "      <td>18.550000</td>\n",
       "      <td>13.56000</td>\n",
       "      <td>301.210</td>\n",
       "      <td>2</td>\n",
       "    </tr>\n",
       "    <tr>\n",
       "      <th>9</th>\n",
       "      <td>47</td>\n",
       "      <td>22.030000</td>\n",
       "      <td>84</td>\n",
       "      <td>2.869</td>\n",
       "      <td>0.590000</td>\n",
       "      <td>26.6500</td>\n",
       "      <td>38.040000</td>\n",
       "      <td>3.32000</td>\n",
       "      <td>191.720</td>\n",
       "      <td>1</td>\n",
       "    </tr>\n",
       "  </tbody>\n",
       "</table>\n",
       "</div>"
      ],
      "text/plain": [
       "   Age        BMI  Glucose  Insulin      HOMA   Leptin  Adiponectin  Resistin  \\\n",
       "0   75  27.300000       85    5.197  1.089638  10.3900     9.000805   7.57670   \n",
       "1   76  27.200000       94   14.070  3.262364  35.8910     9.346630   8.41560   \n",
       "2   69  21.513859      112    6.683  1.846290  32.5800     4.138025  15.69876   \n",
       "3   24  18.670000       88    6.107  1.330000   8.8800    36.060000   6.85000   \n",
       "4   82  31.217482      100   18.077  4.458993  31.6453     9.923650  19.94687   \n",
       "5   66  31.238590       82    4.181  0.845677  16.2247     4.267105   3.29175   \n",
       "6   66  26.562500       89    6.524  1.432235  14.9084     8.429960  14.91922   \n",
       "7   38  23.340000       75    5.782  1.069670  15.2600    17.950000   9.35000   \n",
       "8   46  20.830000       88    3.420  0.742368  12.8700    18.550000  13.56000   \n",
       "9   47  22.030000       84    2.869  0.590000  26.6500    38.040000   3.32000   \n",
       "\n",
       "     MCP.1  Classification  \n",
       "0  335.393               1  \n",
       "1  377.227               1  \n",
       "2  713.239               2  \n",
       "3  632.220               1  \n",
       "4  994.316               2  \n",
       "5  634.602               1  \n",
       "6  269.487               2  \n",
       "7  165.020               1  \n",
       "8  301.210               2  \n",
       "9  191.720               1  "
      ]
     },
     "execution_count": 393,
     "metadata": {},
     "output_type": "execute_result"
    }
   ],
   "source": [
    "# df = df.sample(frac = 1)    # suffeling the rows.\n",
    "# df\n",
    "df = df.iloc[np.random.permutation(df.index)].reset_index(drop=True)\n",
    "print(\"after suffeling the data set:\\n\")\n",
    "df.head(10)"
   ]
  },
  {
   "cell_type": "code",
   "execution_count": 394,
   "id": "de18cb1c",
   "metadata": {},
   "outputs": [],
   "source": [
    "from sklearn import preprocessing\n",
    "\n",
    "y = df['Classification']    # y is vector contaning the class labels.\n",
    "\n",
    "# extracting features of the problem(Matrix of features). (deleting the class label values)\n",
    "X = df.drop('Classification', axis = 1)  \n",
    "# replacing class label values.\n",
    "y = y.replace({1:0, 2:1})    # -> 1 => cancer , 0 => healthy"
   ]
  },
  {
   "cell_type": "code",
   "execution_count": 395,
   "id": "529c7598",
   "metadata": {},
   "outputs": [
    {
     "data": {
      "text/html": [
       "<div>\n",
       "<style scoped>\n",
       "    .dataframe tbody tr th:only-of-type {\n",
       "        vertical-align: middle;\n",
       "    }\n",
       "\n",
       "    .dataframe tbody tr th {\n",
       "        vertical-align: top;\n",
       "    }\n",
       "\n",
       "    .dataframe thead th {\n",
       "        text-align: right;\n",
       "    }\n",
       "</style>\n",
       "<table border=\"1\" class=\"dataframe\">\n",
       "  <thead>\n",
       "    <tr style=\"text-align: right;\">\n",
       "      <th></th>\n",
       "      <th>Age</th>\n",
       "      <th>BMI</th>\n",
       "      <th>Glucose</th>\n",
       "      <th>Insulin</th>\n",
       "      <th>HOMA</th>\n",
       "      <th>Leptin</th>\n",
       "      <th>Adiponectin</th>\n",
       "      <th>Resistin</th>\n",
       "      <th>MCP.1</th>\n",
       "    </tr>\n",
       "  </thead>\n",
       "  <tbody>\n",
       "    <tr>\n",
       "      <th>0</th>\n",
       "      <td>0.784615</td>\n",
       "      <td>0.441888</td>\n",
       "      <td>0.177305</td>\n",
       "      <td>0.049350</td>\n",
       "      <td>0.025311</td>\n",
       "      <td>0.070712</td>\n",
       "      <td>0.201869</td>\n",
       "      <td>0.055352</td>\n",
       "      <td>0.175209</td>\n",
       "    </tr>\n",
       "    <tr>\n",
       "      <th>1</th>\n",
       "      <td>0.800000</td>\n",
       "      <td>0.436939</td>\n",
       "      <td>0.241135</td>\n",
       "      <td>0.207718</td>\n",
       "      <td>0.113695</td>\n",
       "      <td>0.367342</td>\n",
       "      <td>0.211374</td>\n",
       "      <td>0.065986</td>\n",
       "      <td>0.200523</td>\n",
       "    </tr>\n",
       "    <tr>\n",
       "      <th>2</th>\n",
       "      <td>0.692308</td>\n",
       "      <td>0.155569</td>\n",
       "      <td>0.368794</td>\n",
       "      <td>0.075873</td>\n",
       "      <td>0.056091</td>\n",
       "      <td>0.328828</td>\n",
       "      <td>0.068217</td>\n",
       "      <td>0.158306</td>\n",
       "      <td>0.403847</td>\n",
       "    </tr>\n",
       "    <tr>\n",
       "      <th>3</th>\n",
       "      <td>0.000000</td>\n",
       "      <td>0.014845</td>\n",
       "      <td>0.198582</td>\n",
       "      <td>0.065592</td>\n",
       "      <td>0.035089</td>\n",
       "      <td>0.053147</td>\n",
       "      <td>0.945580</td>\n",
       "      <td>0.046140</td>\n",
       "      <td>0.354822</td>\n",
       "    </tr>\n",
       "    <tr>\n",
       "      <th>4</th>\n",
       "      <td>0.892308</td>\n",
       "      <td>0.635738</td>\n",
       "      <td>0.283688</td>\n",
       "      <td>0.279235</td>\n",
       "      <td>0.162372</td>\n",
       "      <td>0.317955</td>\n",
       "      <td>0.227233</td>\n",
       "      <td>0.212155</td>\n",
       "      <td>0.573929</td>\n",
       "    </tr>\n",
       "    <tr>\n",
       "      <th>5</th>\n",
       "      <td>0.646154</td>\n",
       "      <td>0.636783</td>\n",
       "      <td>0.156028</td>\n",
       "      <td>0.031217</td>\n",
       "      <td>0.015387</td>\n",
       "      <td>0.138581</td>\n",
       "      <td>0.071765</td>\n",
       "      <td>0.001036</td>\n",
       "      <td>0.356263</td>\n",
       "    </tr>\n",
       "    <tr>\n",
       "      <th>6</th>\n",
       "      <td>0.646154</td>\n",
       "      <td>0.405394</td>\n",
       "      <td>0.205674</td>\n",
       "      <td>0.073035</td>\n",
       "      <td>0.039248</td>\n",
       "      <td>0.123270</td>\n",
       "      <td>0.186179</td>\n",
       "      <td>0.148425</td>\n",
       "      <td>0.135329</td>\n",
       "    </tr>\n",
       "    <tr>\n",
       "      <th>7</th>\n",
       "      <td>0.215385</td>\n",
       "      <td>0.245933</td>\n",
       "      <td>0.106383</td>\n",
       "      <td>0.059792</td>\n",
       "      <td>0.024499</td>\n",
       "      <td>0.127360</td>\n",
       "      <td>0.447834</td>\n",
       "      <td>0.077830</td>\n",
       "      <td>0.072115</td>\n",
       "    </tr>\n",
       "    <tr>\n",
       "      <th>8</th>\n",
       "      <td>0.338462</td>\n",
       "      <td>0.121729</td>\n",
       "      <td>0.198582</td>\n",
       "      <td>0.017634</td>\n",
       "      <td>0.011185</td>\n",
       "      <td>0.099559</td>\n",
       "      <td>0.464325</td>\n",
       "      <td>0.131195</td>\n",
       "      <td>0.154525</td>\n",
       "    </tr>\n",
       "    <tr>\n",
       "      <th>9</th>\n",
       "      <td>0.353846</td>\n",
       "      <td>0.181110</td>\n",
       "      <td>0.170213</td>\n",
       "      <td>0.007800</td>\n",
       "      <td>0.004987</td>\n",
       "      <td>0.259849</td>\n",
       "      <td>1.000000</td>\n",
       "      <td>0.001394</td>\n",
       "      <td>0.088271</td>\n",
       "    </tr>\n",
       "  </tbody>\n",
       "</table>\n",
       "</div>"
      ],
      "text/plain": [
       "        Age       BMI   Glucose   Insulin      HOMA    Leptin  Adiponectin  \\\n",
       "0  0.784615  0.441888  0.177305  0.049350  0.025311  0.070712     0.201869   \n",
       "1  0.800000  0.436939  0.241135  0.207718  0.113695  0.367342     0.211374   \n",
       "2  0.692308  0.155569  0.368794  0.075873  0.056091  0.328828     0.068217   \n",
       "3  0.000000  0.014845  0.198582  0.065592  0.035089  0.053147     0.945580   \n",
       "4  0.892308  0.635738  0.283688  0.279235  0.162372  0.317955     0.227233   \n",
       "5  0.646154  0.636783  0.156028  0.031217  0.015387  0.138581     0.071765   \n",
       "6  0.646154  0.405394  0.205674  0.073035  0.039248  0.123270     0.186179   \n",
       "7  0.215385  0.245933  0.106383  0.059792  0.024499  0.127360     0.447834   \n",
       "8  0.338462  0.121729  0.198582  0.017634  0.011185  0.099559     0.464325   \n",
       "9  0.353846  0.181110  0.170213  0.007800  0.004987  0.259849     1.000000   \n",
       "\n",
       "   Resistin     MCP.1  \n",
       "0  0.055352  0.175209  \n",
       "1  0.065986  0.200523  \n",
       "2  0.158306  0.403847  \n",
       "3  0.046140  0.354822  \n",
       "4  0.212155  0.573929  \n",
       "5  0.001036  0.356263  \n",
       "6  0.148425  0.135329  \n",
       "7  0.077830  0.072115  \n",
       "8  0.131195  0.154525  \n",
       "9  0.001394  0.088271  "
      ]
     },
     "execution_count": 395,
     "metadata": {},
     "output_type": "execute_result"
    }
   ],
   "source": [
    "scaler = preprocessing.MinMaxScaler()\n",
    "names = X.columns\n",
    "d = scaler.fit_transform(X)\n",
    "X = pd.DataFrame(d, columns=names)\n",
    "X.head(10)"
   ]
  },
  {
   "cell_type": "code",
   "execution_count": 396,
   "id": "927ff359",
   "metadata": {},
   "outputs": [
    {
     "name": "stdout",
     "output_type": "stream",
     "text": [
      "[[0.33846154 0.73285056 0.22695035 0.05922039 0.03406664 0.16725797\n",
      "  0.20624407 0.07199899 0.09884261]\n",
      " [0.46153846 0.28941659 0.18439716 0.02316699 0.01317372 0.05090672\n",
      "  0.05632177 0.09043668 0.35653338]\n",
      " [0.21538462 0.20434888 0.24822695 0.05049261 0.03113619 0.04800568\n",
      "  0.08563934 0.15877881 0.09270984]\n",
      " [0.8        0.43693926 0.24113475 0.20771757 0.11369495 0.36734172\n",
      "  0.21137352 0.06598555 0.20052318]\n",
      " [0.58461538 0.4191252  0.28368794 0.03744556 0.02644076 0.09467366\n",
      "  0.54320555 0.05209786 0.17204255]\n",
      " [0.30769231 0.31520986 0.32624113 1.         0.60277317 0.16109295\n",
      "  0.39698736 0.02661934 0.12036026]\n",
      " [0.38461538 0.14832783 0.12765957 0.00371243 0.0016486  0.02353057\n",
      "  0.06129415 0.25012727 0.4186314 ]\n",
      " [0.89230769 0.6357383  0.28368794 0.27923538 0.16237219 0.31795531\n",
      "  0.2272327  0.21215452 0.57392879]\n",
      " [0.93846154 0.46112571 0.96453901 0.88138074 1.         0.77436518\n",
      "  0.17165975 0.65921283 0.6247839 ]\n",
      " [0.8        0.43199091 0.35460993 0.42441279 0.27028952 0.20317789\n",
      "  0.09013898 0.0669787  0.        ]]\n"
     ]
    }
   ],
   "source": [
    "from sklearn.model_selection import train_test_split\n",
    "\n",
    "X_train, X_test, y_train, y_test = train_test_split(X, y, test_size=0.4, random_state = 0)\n",
    "\n",
    "#y_test_bin = y_test.replace({1 : 0, 2 : 1}, inplace = False).to_numpy()   # -> 1 => cancer , 0 => healthy\n",
    "# y_test_MinusPlusOne = y_test.replace({1 : -1, 2 : 1}, inplace = False).to_numpy()  # -> 1 => cancer , -1 => healthy\n",
    "#y_train_bin = y_train.replace({1 : 0, 2 : 1}, inplace = False).to_numpy()\n",
    "# y_train_MinusPlusOne = y_train.replace({1 : -1, 2 : 1}, inplace = False).to_numpy() \n",
    "\n",
    "y_train_bin = y_train.to_numpy()\n",
    "y_test_bin = y_test.to_numpy()\n",
    "X_train = X_train.to_numpy()\n",
    "X_test = X_test.to_numpy()\n",
    "\n",
    "print(X_train[:10, :])     # printing 10 first records of train features matrix.\n"
   ]
  },
  {
   "cell_type": "code",
   "execution_count": 397,
   "id": "43fbbc2b",
   "metadata": {},
   "outputs": [
    {
     "data": {
      "text/plain": [
       "LogisticRegression()"
      ]
     },
     "execution_count": 397,
     "metadata": {},
     "output_type": "execute_result"
    }
   ],
   "source": [
    "from sklearn.linear_model import LogisticRegression\n",
    "from sklearn import metrics\n",
    "\n",
    "logisticRegression_model = LogisticRegression()\n",
    "logisticRegression_model.fit(X_train, y_train_bin)"
   ]
  },
  {
   "cell_type": "code",
   "execution_count": 398,
   "id": "17b090e8",
   "metadata": {},
   "outputs": [
    {
     "name": "stdout",
     "output_type": "stream",
     "text": [
      "logistic train score:  0.7681159420289855\n"
     ]
    }
   ],
   "source": [
    "logistic_train_score = logisticRegression_model.score(X_train, y_train_bin)\n",
    "print('logistic train score: ', logistic_train_score)"
   ]
  },
  {
   "cell_type": "code",
   "execution_count": 399,
   "id": "dbb12eef",
   "metadata": {},
   "outputs": [
    {
     "data": {
      "text/plain": [
       "array([0, 0, 1, 0, 1, 1, 1, 1, 1, 0, 1, 1, 0, 1, 1, 0, 0, 0, 1, 1, 1, 1,\n",
       "       0, 1, 0, 0, 1, 1, 1, 1, 0, 0, 1, 0, 1, 1, 1, 1, 1, 0, 1, 1, 1, 1,\n",
       "       1, 0, 1], dtype=int64)"
      ]
     },
     "execution_count": 399,
     "metadata": {},
     "output_type": "execute_result"
    }
   ],
   "source": [
    "y_pred = logisticRegression_model.predict(X_test)    # predict using test data.\n",
    "y_pred"
   ]
  },
  {
   "cell_type": "code",
   "execution_count": 400,
   "id": "0fc57f9b",
   "metadata": {},
   "outputs": [
    {
     "name": "stdout",
     "output_type": "stream",
     "text": [
      "Confusion Matrix for test : \n",
      " [[11 12]\n",
      " [ 5 19]]\n",
      "\n",
      "classification for logistic regression : \n",
      "               precision    recall  f1-score   support\n",
      "\n",
      "           0       0.69      0.48      0.56        23\n",
      "           1       0.61      0.79      0.69        24\n",
      "\n",
      "    accuracy                           0.64        47\n",
      "   macro avg       0.65      0.63      0.63        47\n",
      "weighted avg       0.65      0.64      0.63        47\n",
      "\n"
     ]
    }
   ],
   "source": [
    "from sklearn.metrics import confusion_matrix, classification_report\n",
    "\n",
    "cm = confusion_matrix(y_test_bin, y_pred)\n",
    "report = classification_report(y_test_bin, y_pred)\n",
    "  \n",
    "print (\"Confusion Matrix for test : \\n\", cm)\n",
    "print(\"\\nclassification for logistic regression : \\n\", report)"
   ]
  },
  {
   "cell_type": "code",
   "execution_count": 401,
   "id": "5929e181",
   "metadata": {},
   "outputs": [
    {
     "name": "stdout",
     "output_type": "stream",
     "text": [
      "logistic test score:  0.6382978723404256\n"
     ]
    }
   ],
   "source": [
    "logistic_test_score = logisticRegression_model.score(X_test, y_test_bin)   # Accuracy of the test-set.\n",
    "print('logistic test score: ', logistic_test_score)"
   ]
  },
  {
   "cell_type": "markdown",
   "id": "ef53d514",
   "metadata": {},
   "source": [
    "## SVM with linear kernel on Cancer data:"
   ]
  },
  {
   "cell_type": "code",
   "execution_count": 402,
   "id": "60af2422",
   "metadata": {},
   "outputs": [
    {
     "name": "stdout",
     "output_type": "stream",
     "text": [
      "SVM(linear kernel) train score:  0.7391304347826086\n"
     ]
    }
   ],
   "source": [
    "from sklearn import svm\n",
    "\n",
    "SVM_linearKernel_model = svm.SVC(kernel='linear')\n",
    "SVM_linearKernel_model.fit(X_train, y_train_bin)\n",
    "\n",
    "SVM_linearKernel_train_score = SVM_linearKernel_model.score(X_train, y_train_bin)\n",
    "print('SVM(linear kernel) train score: ', SVM_linearKernel_train_score)"
   ]
  },
  {
   "cell_type": "code",
   "execution_count": 403,
   "id": "f012b38b",
   "metadata": {},
   "outputs": [
    {
     "data": {
      "text/plain": [
       "array([0, 0, 1, 0, 1, 1, 1, 1, 1, 0, 1, 1, 0, 1, 1, 0, 0, 0, 1, 0, 1, 0,\n",
       "       0, 1, 0, 0, 1, 1, 1, 1, 0, 0, 1, 0, 0, 0, 1, 1, 1, 0, 0, 1, 1, 1,\n",
       "       1, 0, 1], dtype=int64)"
      ]
     },
     "execution_count": 403,
     "metadata": {},
     "output_type": "execute_result"
    }
   ],
   "source": [
    "#Predict the response for test dataset\n",
    "y_pred = SVM_linearKernel_model.predict(X_test)\n",
    "y_pred"
   ]
  },
  {
   "cell_type": "code",
   "execution_count": 404,
   "id": "dfc1b574",
   "metadata": {},
   "outputs": [
    {
     "name": "stdout",
     "output_type": "stream",
     "text": [
      "Confusion Matrix for test : \n",
      " [[13 10]\n",
      " [ 8 16]]\n",
      "\n",
      "classification for SVM(linear kernel) : \n",
      "               precision    recall  f1-score   support\n",
      "\n",
      "           0       0.62      0.57      0.59        23\n",
      "           1       0.62      0.67      0.64        24\n",
      "\n",
      "    accuracy                           0.62        47\n",
      "   macro avg       0.62      0.62      0.62        47\n",
      "weighted avg       0.62      0.62      0.62        47\n",
      "\n"
     ]
    }
   ],
   "source": [
    "cm = confusion_matrix(y_test_bin, y_pred)\n",
    "report = classification_report(y_test_bin, y_pred)\n",
    "  \n",
    "print (\"Confusion Matrix for test : \\n\", cm)\n",
    "print(\"\\nclassification for SVM(linear kernel) : \\n\", report)"
   ]
  },
  {
   "cell_type": "code",
   "execution_count": 405,
   "id": "0a47b7f3",
   "metadata": {},
   "outputs": [
    {
     "name": "stdout",
     "output_type": "stream",
     "text": [
      "SVM(linear kernel) test score:  0.6170212765957447\n"
     ]
    }
   ],
   "source": [
    "SVM_linearKernel_test_score = SVM_linearKernel_model.score(X_test, y_test_bin)   # Accuracy of the test-set.\n",
    "print('SVM(linear kernel) test score: ', SVM_linearKernel_test_score)"
   ]
  },
  {
   "cell_type": "markdown",
   "id": "de2ffd77",
   "metadata": {},
   "source": [
    "## SVM with RBF kernel on Cancer data:"
   ]
  },
  {
   "cell_type": "code",
   "execution_count": 406,
   "id": "2cf06d2d",
   "metadata": {},
   "outputs": [
    {
     "name": "stdout",
     "output_type": "stream",
     "text": [
      "SVM(RBF kernel) train score:  0.8840579710144928\n"
     ]
    }
   ],
   "source": [
    "SVM_RBFKernel_model = svm.SVC(kernel='rbf')\n",
    "SVM_RBFKernel_model.fit(X_train, y_train_bin)\n",
    "\n",
    "SVM_RBFKernel_train_score = SVM_RBFKernel_model.score(X_train, y_train_bin)\n",
    "print('SVM(RBF kernel) train score: ', SVM_RBFKernel_train_score)"
   ]
  },
  {
   "cell_type": "code",
   "execution_count": 407,
   "id": "dd72c290",
   "metadata": {},
   "outputs": [
    {
     "data": {
      "text/plain": [
       "array([0, 0, 0, 0, 1, 1, 0, 1, 1, 0, 0, 1, 0, 1, 1, 0, 1, 1, 1, 1, 1, 0,\n",
       "       1, 0, 0, 0, 1, 0, 1, 0, 0, 0, 0, 0, 0, 0, 1, 1, 0, 0, 1, 1, 1, 1,\n",
       "       0, 0, 0], dtype=int64)"
      ]
     },
     "execution_count": 407,
     "metadata": {},
     "output_type": "execute_result"
    }
   ],
   "source": [
    "y_pred = SVM_RBFKernel_model.predict(X_test)\n",
    "y_pred"
   ]
  },
  {
   "cell_type": "code",
   "execution_count": 408,
   "id": "57d2711d",
   "metadata": {},
   "outputs": [
    {
     "name": "stdout",
     "output_type": "stream",
     "text": [
      "Confusion Matrix for test : \n",
      " [[18  5]\n",
      " [ 8 16]]\n",
      "\n",
      "classification for SVM(RBF kernel) : \n",
      "               precision    recall  f1-score   support\n",
      "\n",
      "           0       0.69      0.78      0.73        23\n",
      "           1       0.76      0.67      0.71        24\n",
      "\n",
      "    accuracy                           0.72        47\n",
      "   macro avg       0.73      0.72      0.72        47\n",
      "weighted avg       0.73      0.72      0.72        47\n",
      "\n"
     ]
    }
   ],
   "source": [
    "cm = confusion_matrix(y_test_bin, y_pred)\n",
    "report = classification_report(y_test_bin, y_pred)\n",
    "  \n",
    "print (\"Confusion Matrix for test : \\n\", cm)\n",
    "print(\"\\nclassification for SVM(RBF kernel) : \\n\", report)"
   ]
  },
  {
   "cell_type": "code",
   "execution_count": 409,
   "id": "d9fe9848",
   "metadata": {},
   "outputs": [
    {
     "name": "stdout",
     "output_type": "stream",
     "text": [
      "SVM(RBF kernel) test score:  0.723404255319149\n"
     ]
    }
   ],
   "source": [
    "SVM_RBFKernel_test_score = SVM_RBFKernel_model.score(X_test, y_test_bin)   # Accuracy of the test-set.\n",
    "print('SVM(RBF kernel) test score: ', SVM_RBFKernel_test_score)"
   ]
  },
  {
   "cell_type": "markdown",
   "id": "c11f1246",
   "metadata": {},
   "source": [
    "## Decision Tree on Cancer data:"
   ]
  },
  {
   "cell_type": "code",
   "execution_count": 410,
   "id": "6c6bc4fe",
   "metadata": {},
   "outputs": [
    {
     "name": "stdout",
     "output_type": "stream",
     "text": [
      "DecisionTree train score:  1.0\n"
     ]
    }
   ],
   "source": [
    "from sklearn.tree import DecisionTreeClassifier\n",
    "\n",
    "DecisionTree_model = DecisionTreeClassifier(criterion=\"entropy\")\n",
    "\n",
    "# Train Decision Tree Classifer\n",
    "DecisionTree_model = DecisionTree_model.fit(X_train, y_train_bin)\n",
    "\n",
    "DecisionTree_model_train_score = DecisionTree_model.score(X_train, y_train_bin)\n",
    "print('DecisionTree train score: ', DecisionTree_model_train_score)\n"
   ]
  },
  {
   "cell_type": "code",
   "execution_count": 411,
   "id": "a36a7506",
   "metadata": {},
   "outputs": [
    {
     "data": {
      "text/plain": [
       "array([1, 0, 0, 1, 0, 0, 1, 1, 1, 0, 1, 0, 0, 1, 1, 0, 0, 1, 0, 0, 1, 0,\n",
       "       1, 1, 0, 1, 1, 0, 0, 0, 0, 0, 0, 0, 0, 0, 1, 1, 0, 0, 0, 1, 1, 1,\n",
       "       0, 1, 1], dtype=int64)"
      ]
     },
     "execution_count": 411,
     "metadata": {},
     "output_type": "execute_result"
    }
   ],
   "source": [
    "#Predict the response for test dataset\n",
    "y_pred = DecisionTree_model.predict(X_test)\n",
    "y_pred"
   ]
  },
  {
   "cell_type": "code",
   "execution_count": 412,
   "id": "88852593",
   "metadata": {},
   "outputs": [
    {
     "name": "stdout",
     "output_type": "stream",
     "text": [
      "Confusion Matrix for test : \n",
      " [[14  9]\n",
      " [12 12]]\n",
      "\n",
      "classification for DecisionTree : \n",
      "               precision    recall  f1-score   support\n",
      "\n",
      "           0       0.54      0.61      0.57        23\n",
      "           1       0.57      0.50      0.53        24\n",
      "\n",
      "    accuracy                           0.55        47\n",
      "   macro avg       0.55      0.55      0.55        47\n",
      "weighted avg       0.56      0.55      0.55        47\n",
      "\n"
     ]
    }
   ],
   "source": [
    "cm = confusion_matrix(y_test_bin, y_pred)\n",
    "report = classification_report(y_test_bin, y_pred)\n",
    "  \n",
    "print(\"Confusion Matrix for test : \\n\", cm)\n",
    "print(\"\\nclassification for DecisionTree : \\n\", report)"
   ]
  },
  {
   "cell_type": "code",
   "execution_count": 413,
   "id": "db0e75f4",
   "metadata": {},
   "outputs": [
    {
     "name": "stdout",
     "output_type": "stream",
     "text": [
      "DecisionTree test score:  0.5531914893617021\n"
     ]
    }
   ],
   "source": [
    "DecisionTree_test_score = DecisionTree_model.score(X_test, y_test_bin)   # Accuracy of the test-set.\n",
    "print('DecisionTree test score: ', DecisionTree_test_score)"
   ]
  },
  {
   "cell_type": "markdown",
   "id": "7ca1ee1a",
   "metadata": {},
   "source": [
    "## Visualizing Decision Tree:"
   ]
  },
  {
   "cell_type": "code",
   "execution_count": 414,
   "id": "e8d1e4f9",
   "metadata": {},
   "outputs": [
    {
     "data": {
      "image/png": "[encoded data removed]",
      "text/plain": [
       "<Figure size 1800x1440 with 1 Axes>"
      ]
     },
     "metadata": {
      "needs_background": "light"
     },
     "output_type": "display_data"
    }
   ],
   "source": [
    "from sklearn import tree\n",
    "from matplotlib import pyplot as plt\n",
    "\n",
    "fig = plt.figure(figsize=(25,20))\n",
    "_ = tree.plot_tree(DecisionTree_model, \n",
    "                   feature_names=names,  \n",
    "                   class_names=['0', '1'],\n",
    "                   filled=True, rounded=True)"
   ]
  },
  {
   "cell_type": "markdown",
   "id": "d97ad80e",
   "metadata": {},
   "source": [
    "## KNN on Cancer data:"
   ]
  },
  {
   "cell_type": "code",
   "execution_count": 415,
   "id": "8e479d0f",
   "metadata": {},
   "outputs": [
    {
     "name": "stdout",
     "output_type": "stream",
     "text": [
      "result in train data according to k : \n",
      "\n"
     ]
    },
    {
     "data": {
      "text/plain": [
       "{1: 1.0,\n",
       " 2: 0.8260869565217391,\n",
       " 3: 0.855072463768116,\n",
       " 4: 0.8115942028985508,\n",
       " 5: 0.8405797101449275,\n",
       " 6: 0.8405797101449275,\n",
       " 7: 0.7971014492753623,\n",
       " 8: 0.782608695652174,\n",
       " 9: 0.7971014492753623,\n",
       " 10: 0.782608695652174,\n",
       " 11: 0.782608695652174,\n",
       " 12: 0.7971014492753623,\n",
       " 13: 0.7536231884057971,\n",
       " 14: 0.7391304347826086,\n",
       " 15: 0.7391304347826086,\n",
       " 16: 0.7536231884057971,\n",
       " 17: 0.7681159420289855,\n",
       " 18: 0.7681159420289855,\n",
       " 19: 0.7681159420289855,\n",
       " 20: 0.7391304347826086,\n",
       " 21: 0.7681159420289855,\n",
       " 22: 0.7681159420289855,\n",
       " 23: 0.7971014492753623,\n",
       " 24: 0.782608695652174,\n",
       " 25: 0.7536231884057971,\n",
       " 26: 0.7681159420289855,\n",
       " 27: 0.7246376811594203,\n",
       " 28: 0.7101449275362319,\n",
       " 29: 0.7246376811594203,\n",
       " 30: 0.7536231884057971}"
      ]
     },
     "execution_count": 415,
     "metadata": {},
     "output_type": "execute_result"
    }
   ],
   "source": [
    "from sklearn.neighbors import KNeighborsClassifier\n",
    "\n",
    "k_range = range(1, 31)\n",
    "test_scores_k = {}\n",
    "train_scores_k = {}\n",
    "\n",
    "for k in k_range:\n",
    "    knn_model = KNeighborsClassifier(n_neighbors = k)\n",
    "    knn_model.fit(X_train, y_train_bin)\n",
    "    train_scores_k[k] = knn_model.score(X_train, y_train_bin)\n",
    "    y_pred = knn_model.predict(X_test)\n",
    "    test_scores_k[k] = knn_model.score(X_test, y_test_bin)\n",
    "    \n",
    "print(\"result in train data according to k : \\n\")\n",
    "train_scores_k\n"
   ]
  },
  {
   "cell_type": "code",
   "execution_count": 416,
   "id": "43a41aad",
   "metadata": {},
   "outputs": [
    {
     "name": "stdout",
     "output_type": "stream",
     "text": [
      "result in test data according to k : \n",
      "\n"
     ]
    },
    {
     "data": {
      "text/plain": [
       "{1: 0.574468085106383,\n",
       " 2: 0.5957446808510638,\n",
       " 3: 0.723404255319149,\n",
       " 4: 0.7021276595744681,\n",
       " 5: 0.723404255319149,\n",
       " 6: 0.7021276595744681,\n",
       " 7: 0.6170212765957447,\n",
       " 8: 0.6382978723404256,\n",
       " 9: 0.6170212765957447,\n",
       " 10: 0.6595744680851063,\n",
       " 11: 0.6382978723404256,\n",
       " 12: 0.5957446808510638,\n",
       " 13: 0.6382978723404256,\n",
       " 14: 0.574468085106383,\n",
       " 15: 0.574468085106383,\n",
       " 16: 0.5957446808510638,\n",
       " 17: 0.574468085106383,\n",
       " 18: 0.5531914893617021,\n",
       " 19: 0.5319148936170213,\n",
       " 20: 0.5531914893617021,\n",
       " 21: 0.5957446808510638,\n",
       " 22: 0.5957446808510638,\n",
       " 23: 0.6170212765957447,\n",
       " 24: 0.7021276595744681,\n",
       " 25: 0.5957446808510638,\n",
       " 26: 0.6808510638297872,\n",
       " 27: 0.5957446808510638,\n",
       " 28: 0.5957446808510638,\n",
       " 29: 0.574468085106383,\n",
       " 30: 0.6170212765957447}"
      ]
     },
     "execution_count": 416,
     "metadata": {},
     "output_type": "execute_result"
    }
   ],
   "source": [
    "print(\"result in test data according to k : \\n\")\n",
    "test_scores_k"
   ]
  },
  {
   "cell_type": "code",
   "execution_count": 417,
   "id": "bcf1acc1",
   "metadata": {},
   "outputs": [
    {
     "data": {
      "text/plain": [
       "[Text(0.5, 0, 'k values'), Text(0, 0.5, 'train scores')]"
      ]
     },
     "execution_count": 417,
     "metadata": {},
     "output_type": "execute_result"
    },
    {
     "data": {
      "image/png": "[encoded data removed]",
      "text/plain": [
       "<Figure size 432x288 with 2 Axes>"
      ]
     },
     "metadata": {
      "needs_background": "light"
     },
     "output_type": "display_data"
    }
   ],
   "source": [
    "\n",
    "k_vals = list(k_range)\n",
    "\n",
    "fig, (ax1, ax2) = plt.subplots(2, 1)\n",
    "fig.suptitle('train and test scores vs k values for data set')\n",
    "\n",
    "ax1.plot(k_vals, test_scores_k.values())\n",
    "\n",
    "ax1.set(xlabel='k values', ylabel='test scores')\n",
    "\n",
    "ax2.plot(k_vals, train_scores_k.values())\n",
    "ax2.set(xlabel='k values', ylabel='train scores')"
   ]
  },
  {
   "cell_type": "code",
   "execution_count": 418,
   "id": "d1ccfd2f",
   "metadata": {},
   "outputs": [
    {
     "name": "stdout",
     "output_type": "stream",
     "text": [
      "best k for knn is :  5\n",
      "knn_model train score:  0.8405797101449275\n"
     ]
    }
   ],
   "source": [
    "sorted_testScores = {k: v for k, v in sorted(test_scores_k.items(), key=lambda item: item[1])}\n",
    "\n",
    "best_k = list(sorted_testScores.keys())[len(sorted_testScores) - 1]\n",
    "\n",
    "print('best k for knn is : ', best_k)\n",
    "knn_model = KNeighborsClassifier(n_neighbors = best_k)    # according to plots and diffrent k values for knn we select this k.\n",
    "\n",
    "knn_model = knn_model.fit(X_train, y_train_bin)\n",
    "\n",
    "knn_model_train_score = knn_model.score(X_train, y_train_bin)\n",
    "print('knn_model train score: ', knn_model_train_score)"
   ]
  },
  {
   "cell_type": "code",
   "execution_count": 419,
   "id": "57317f98",
   "metadata": {},
   "outputs": [
    {
     "data": {
      "text/plain": [
       "array([0, 0, 0, 0, 0, 1, 0, 1, 1, 0, 0, 1, 0, 1, 1, 0, 1, 1, 0, 1, 1, 1,\n",
       "       1, 0, 0, 0, 1, 1, 1, 0, 1, 0, 0, 0, 0, 1, 1, 1, 0, 0, 1, 1, 1, 1,\n",
       "       0, 0, 0], dtype=int64)"
      ]
     },
     "execution_count": 419,
     "metadata": {},
     "output_type": "execute_result"
    }
   ],
   "source": [
    "y_pred = knn_model.predict(X_test)\n",
    "y_pred"
   ]
  },
  {
   "cell_type": "code",
   "execution_count": 420,
   "id": "f15accb7",
   "metadata": {},
   "outputs": [
    {
     "name": "stdout",
     "output_type": "stream",
     "text": [
      "Confusion Matrix for test : \n",
      " [[17  6]\n",
      " [ 7 17]]\n",
      "\n",
      "classification for knn model : \n",
      "               precision    recall  f1-score   support\n",
      "\n",
      "           0       0.71      0.74      0.72        23\n",
      "           1       0.74      0.71      0.72        24\n",
      "\n",
      "    accuracy                           0.72        47\n",
      "   macro avg       0.72      0.72      0.72        47\n",
      "weighted avg       0.72      0.72      0.72        47\n",
      "\n"
     ]
    }
   ],
   "source": [
    "cm = confusion_matrix(y_test_bin, y_pred)\n",
    "report = classification_report(y_test_bin, y_pred)\n",
    "  \n",
    "print (\"Confusion Matrix for test : \\n\", cm)\n",
    "print(\"\\nclassification for knn model : \\n\", report)"
   ]
  },
  {
   "cell_type": "code",
   "execution_count": 421,
   "id": "ea54681f",
   "metadata": {},
   "outputs": [
    {
     "name": "stdout",
     "output_type": "stream",
     "text": [
      "knn test score:  0.723404255319149\n"
     ]
    }
   ],
   "source": [
    "knn = knn_model.score(X_test, y_test_bin)   # Accuracy of the test-set.\n",
    "print('knn test score: ', knn)"
   ]
  },
  {
   "cell_type": "markdown",
   "id": "1a50b934",
   "metadata": {},
   "source": [
    "## Cross validation:"
   ]
  },
  {
   "cell_type": "code",
   "execution_count": 422,
   "id": "c366decc",
   "metadata": {},
   "outputs": [
    {
     "name": "stdout",
     "output_type": "stream",
     "text": [
      "Train Index:  [ 24  25  26  27  28  29  30  31  32  33  34  35  36  37  38  39  40  41\n",
      "  42  43  44  45  46  47  48  49  50  51  52  53  54  55  56  57  58  59\n",
      "  60  61  62  63  64  65  66  67  68  69  70  71  72  73  74  75  76  77\n",
      "  78  79  80  81  82  83  84  85  86  87  88  89  90  91  92  93  94  95\n",
      "  96  97  98  99 100 101 102 103 104 105 106 107 108 109 110 111 112 113\n",
      " 114 115] \n",
      "\n",
      "Test Index:  [ 0  1  2  3  4  5  6  7  8  9 10 11 12 13 14 15 16 17 18 19 20 21 22 23]\n",
      "Train Index:  [  0   1   2   3   4   5   6   7   8   9  10  11  12  13  14  15  16  17\n",
      "  18  19  20  21  22  23  47  48  49  50  51  52  53  54  55  56  57  58\n",
      "  59  60  61  62  63  64  65  66  67  68  69  70  71  72  73  74  75  76\n",
      "  77  78  79  80  81  82  83  84  85  86  87  88  89  90  91  92  93  94\n",
      "  95  96  97  98  99 100 101 102 103 104 105 106 107 108 109 110 111 112\n",
      " 113 114 115] \n",
      "\n",
      "Test Index:  [24 25 26 27 28 29 30 31 32 33 34 35 36 37 38 39 40 41 42 43 44 45 46]\n",
      "Train Index:  [  0   1   2   3   4   5   6   7   8   9  10  11  12  13  14  15  16  17\n",
      "  18  19  20  21  22  23  24  25  26  27  28  29  30  31  32  33  34  35\n",
      "  36  37  38  39  40  41  42  43  44  45  46  70  71  72  73  74  75  76\n",
      "  77  78  79  80  81  82  83  84  85  86  87  88  89  90  91  92  93  94\n",
      "  95  96  97  98  99 100 101 102 103 104 105 106 107 108 109 110 111 112\n",
      " 113 114 115] \n",
      "\n",
      "Test Index:  [47 48 49 50 51 52 53 54 55 56 57 58 59 60 61 62 63 64 65 66 67 68 69]\n",
      "Train Index:  [  0   1   2   3   4   5   6   7   8   9  10  11  12  13  14  15  16  17\n",
      "  18  19  20  21  22  23  24  25  26  27  28  29  30  31  32  33  34  35\n",
      "  36  37  38  39  40  41  42  43  44  45  46  47  48  49  50  51  52  53\n",
      "  54  55  56  57  58  59  60  61  62  63  64  65  66  67  68  69  93  94\n",
      "  95  96  97  98  99 100 101 102 103 104 105 106 107 108 109 110 111 112\n",
      " 113 114 115] \n",
      "\n",
      "Test Index:  [70 71 72 73 74 75 76 77 78 79 80 81 82 83 84 85 86 87 88 89 90 91 92]\n",
      "Train Index:  [ 0  1  2  3  4  5  6  7  8  9 10 11 12 13 14 15 16 17 18 19 20 21 22 23\n",
      " 24 25 26 27 28 29 30 31 32 33 34 35 36 37 38 39 40 41 42 43 44 45 46 47\n",
      " 48 49 50 51 52 53 54 55 56 57 58 59 60 61 62 63 64 65 66 67 68 69 70 71\n",
      " 72 73 74 75 76 77 78 79 80 81 82 83 84 85 86 87 88 89 90 91 92] \n",
      "\n",
      "Test Index:  [ 93  94  95  96  97  98  99 100 101 102 103 104 105 106 107 108 109 110\n",
      " 111 112 113 114 115]\n",
      "\n",
      "\n",
      "logisticRegression_model [0.5833333333333334, 0.6521739130434783, 0.6086956521739131, 0.6956521739130435, 0.6521739130434783]\n",
      "\n",
      "\n",
      "SVM_linearKernel_model [0.625, 0.6521739130434783, 0.5652173913043478, 0.782608695652174, 0.5652173913043478]\n",
      "\n",
      "\n",
      "SVM_RBFKernel_model [0.7916666666666666, 0.6521739130434783, 0.6521739130434783, 0.8260869565217391, 0.7391304347826086]\n",
      "\n",
      "\n",
      "DecisionTree_model [0.8333333333333334, 0.6956521739130435, 0.6086956521739131, 0.8260869565217391, 0.782608695652174]\n",
      "\n",
      "\n",
      "knn_model [0.75, 0.7391304347826086, 0.7391304347826086, 0.782608695652174, 0.6086956521739131]\n"
     ]
    }
   ],
   "source": [
    "from sklearn.model_selection import KFold\n",
    "\n",
    "k_split = 5\n",
    "\n",
    "CV = KFold(n_splits = k_split, shuffle = False)\n",
    "dict_scores = {'logisticRegression_model':[], 'SVM_linearKernel_model':[], \n",
    "               'SVM_RBFKernel_model':[], 'DecisionTree_model':[], 'knn_model':[]}\n",
    "\n",
    "for train_index, test_index in CV.split(X):\n",
    "    print(\"Train Index: \", train_index, \"\\n\")\n",
    "    print(\"Test Index: \", test_index)\n",
    "\n",
    "    X_train, X_test, y_train, y_test = X.iloc[train_index], X.iloc[test_index], y[train_index], y[test_index]  # fold partioton.\n",
    "    \n",
    "    logisticRegression_model.fit(X_train, y_train)\n",
    "    SVM_linearKernel_model.fit(X_train, y_train)\n",
    "    SVM_RBFKernel_model.fit(X_train, y_train)\n",
    "    DecisionTree_model.fit(X_train, y_train)\n",
    "    knn_model.fit(X_train, y_train)\n",
    "    \n",
    "    dict_scores['logisticRegression_model'].append(logisticRegression_model.score(X_test, y_test))\n",
    "    dict_scores['SVM_linearKernel_model'].append(SVM_linearKernel_model.score(X_test, y_test))\n",
    "    dict_scores['SVM_RBFKernel_model'].append(SVM_RBFKernel_model.score(X_test, y_test))\n",
    "    dict_scores['DecisionTree_model'].append(DecisionTree_model.score(X_test, y_test))\n",
    "    dict_scores['knn_model'].append(knn_model.score(X_test, y_test))\n",
    "\n",
    "for key, value in dict_scores.items():\n",
    "    print(\"\\n\")\n",
    "    print(key, value) \n"
   ]
  },
  {
   "cell_type": "markdown",
   "id": "6ccb5d3b",
   "metadata": {},
   "source": [
    "### Comparing models using average:"
   ]
  },
  {
   "cell_type": "code",
   "execution_count": 423,
   "id": "aaea583d",
   "metadata": {},
   "outputs": [
    {
     "data": {
      "text/plain": [
       "{'SVM_linearKernel_model': 0.6380434782608695,\n",
       " 'logisticRegression_model': 0.6384057971014492,\n",
       " 'knn_model': 0.7239130434782608,\n",
       " 'SVM_RBFKernel_model': 0.7322463768115941,\n",
       " 'DecisionTree_model': 0.7492753623188406}"
      ]
     },
     "execution_count": 423,
     "metadata": {},
     "output_type": "execute_result"
    }
   ],
   "source": [
    "avg_dict = {'logisticRegression_model': 0, 'SVM_linearKernel_model': 0, \n",
    "               'SVM_RBFKernel_model': 0, 'DecisionTree_model': 0, 'knn_model': 0}\n",
    "\n",
    "for key in dict_scores.keys():\n",
    "    avg_dict[key] = np.mean(dict_scores[key])\n",
    "\n",
    "avg_dict = {k: v for k, v in sorted(avg_dict.items(), key=lambda item: item[1])}\n",
    "avg_dict"
   ]
  },
  {
   "cell_type": "code",
   "execution_count": 424,
   "id": "b81883d6",
   "metadata": {
    "slideshow": {
     "slide_type": "-"
    }
   },
   "outputs": [
    {
     "name": "stdout",
     "output_type": "stream",
     "text": [
      "Avg score for logisticRegression_model : 0.6384057971014492\n",
      "Avg score for SVM_linearKernel_model : 0.6380434782608695\n",
      "Avg score for SVM_RBFKernel_model : 0.7322463768115941\n",
      "Avg score for DecisionTree_model : 0.775\n",
      "Avg score for knn_model : 0.7239130434782608\n"
     ]
    }
   ],
   "source": [
    "# using cross_val_score from sklearn to test the pervious results.\n",
    "\n",
    "from sklearn.model_selection import cross_val_score\n",
    "\n",
    "CV2 = KFold(n_splits = k_split, random_state=None)\n",
    "\n",
    "result = cross_val_score(logisticRegression_model , X, y, cv = CV2)\n",
    "print(\"Avg score for logisticRegression_model : {}\".format(result.mean()))\n",
    "\n",
    "result = cross_val_score(SVM_linearKernel_model , X, y, cv = kf)\n",
    "print(\"Avg score for SVM_linearKernel_model : {}\".format(result.mean()))\n",
    "\n",
    "result = cross_val_score(SVM_RBFKernel_model , X, y, cv = kf)\n",
    "print(\"Avg score for SVM_RBFKernel_model : {}\".format(result.mean()))\n",
    "\n",
    "result = cross_val_score(DecisionTree_model , X, y, cv = kf)\n",
    "print(\"Avg score for DecisionTree_model : {}\".format(result.mean()))\n",
    "\n",
    "result = cross_val_score(knn_model , X, y, cv = kf)\n",
    "print(\"Avg score for knn_model : {}\".format(result.mean()))"
   ]
  }
 ],
 "metadata": {
  "kernelspec": {
   "display_name": "Python 3",
   "language": "python",
   "name": "python3"
  },
  "language_info": {
   "codemirror_mode": {
    "name": "ipython",
    "version": 3
   },
   "file_extension": ".py",
   "mimetype": "text/x-python",
   "name": "python",
   "nbconvert_exporter": "python",
   "pygments_lexer": "ipython3",
   "version": "3.9.4"
  }
 },
 "nbformat": 4,
 "nbformat_minor": 5
}
